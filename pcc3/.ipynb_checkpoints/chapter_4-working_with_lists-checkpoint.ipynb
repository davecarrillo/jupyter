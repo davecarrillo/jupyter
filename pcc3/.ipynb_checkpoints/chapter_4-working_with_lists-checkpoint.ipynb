{
 "cells": [
  {
   "cell_type": "markdown",
   "id": "37e0d11a-9286-41e2-9f83-eae269a59771",
   "metadata": {},
   "source": [
    "# Chapter 4: Working with lists"
   ]
  },
  {
   "cell_type": "markdown",
   "id": "a2308962-33d0-48d0-9906-8c5b1fdb7be5",
   "metadata": {},
   "source": [
    "## Looping Through an Entire List"
   ]
  },
  {
   "cell_type": "code",
   "execution_count": 17,
   "id": "b6039592-89bc-4973-85c8-5fa6aea26d94",
   "metadata": {},
   "outputs": [
    {
     "name": "stdout",
     "output_type": "stream",
     "text": [
      "Alice, that was a great trick!\n",
      "I can't wait to see your next trick, Alice.\n",
      "\n",
      "David, that was a great trick!\n",
      "I can't wait to see your next trick, David.\n",
      "\n",
      "Carolina, that was a great trick!\n",
      "I can't wait to see your next trick, Carolina.\n",
      "\n",
      "Carolina was the last magician in the show\n",
      "Thank you, everyone. That was a great magic show!\n"
     ]
    }
   ],
   "source": [
    "magicians = ['alice', 'david', 'carolina']\n",
    "\n",
    "for magician in magicians:\n",
    "    print(f\"{magician.title()}, that was a great trick!\")\n",
    "    print(f\"I can't wait to see your next trick, {magician.title()}.\\n\")\n",
    "\n",
    "print(f\"{magician.title()} was the last magician in the show\")\n",
    "print(\"Thank you, everyone. That was a great magic show!\")"
   ]
  },
  {
   "cell_type": "markdown",
   "id": "21523395-8e81-4b15-8165-f7211cf4c6d7",
   "metadata": {},
   "source": [
    "## Making Numerical Lists"
   ]
  },
  {
   "cell_type": "markdown",
   "id": "1851d09c-ca68-46fe-937e-e58fbb4f3f4c",
   "metadata": {},
   "source": [
    "### Using the range() Function"
   ]
  },
  {
   "cell_type": "code",
   "execution_count": null,
   "id": "0f46b30d-04e0-422e-a371-a5ea1a50989b",
   "metadata": {},
   "outputs": [],
   "source": [
    "for value in range(1, 5):\n",
    "print(value)"
   ]
  }
 ],
 "metadata": {
  "kernelspec": {
   "display_name": "Python 3 (ipykernel)",
   "language": "python",
   "name": "python3"
  },
  "language_info": {
   "codemirror_mode": {
    "name": "ipython",
    "version": 3
   },
   "file_extension": ".py",
   "mimetype": "text/x-python",
   "name": "python",
   "nbconvert_exporter": "python",
   "pygments_lexer": "ipython3",
   "version": "3.10.12"
  }
 },
 "nbformat": 4,
 "nbformat_minor": 5
}
